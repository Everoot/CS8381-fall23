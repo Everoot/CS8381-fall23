{
 "cells": [
  {
   "cell_type": "markdown",
   "id": "33db512c-5f15-4327-af5f-285c5605bba8",
   "metadata": {},
   "source": [
    "导入numpy包"
   ]
  },
  {
   "cell_type": "code",
   "execution_count": 2,
   "id": "d3d19428-334f-4dbc-812d-1eb37e125169",
   "metadata": {
    "tags": []
   },
   "outputs": [],
   "source": [
    "import numpy as np"
   ]
  },
  {
   "cell_type": "code",
   "execution_count": null,
   "id": "6bcc13d4-232c-44ab-bfdd-13666e1a41bf",
   "metadata": {},
   "outputs": [],
   "source": [
    "定义z方向自旋劈裂矢量"
   ]
  },
  {
   "cell_type": "code",
   "execution_count": 3,
   "id": "21747aec-6e3a-48c3-b11e-844f661b7850",
   "metadata": {
    "tags": []
   },
   "outputs": [
    {
     "name": "stdout",
     "output_type": "stream",
     "text": [
      "[[1]\n",
      " [0]]\n"
     ]
    }
   ],
   "source": [
    "zero_qubit = np.matrix('1; 0')\n",
    "one_qubit = np.matrix('0; 1')\n",
    "print(zero_qubit)"
   ]
  },
  {
   "cell_type": "code",
   "execution_count": 4,
   "id": "65f9beeb-2af4-4bcf-a590-8288e4715ca8",
   "metadata": {
    "tags": []
   },
   "outputs": [],
   "source": [
    "def mix(zero, one):\n",
    "    if zero + one != 1:\n",
    "        raise Exception('总概率不等于100%!')\n",
    "    return np.sqrt(zero) * zero_qubit + np.sqrt(one) * one_qubit "
   ]
  },
  {
   "cell_type": "code",
   "execution_count": 6,
   "id": "6928f931-6541-48c9-9f54-14493247e213",
   "metadata": {
    "tags": []
   },
   "outputs": [
    {
     "name": "stdout",
     "output_type": "stream",
     "text": [
      "[[0.70710678]\n",
      " [0.70710678]]\n",
      "[[0.31622777]\n",
      " [0.9486833 ]]\n"
     ]
    }
   ],
   "source": [
    "qubit_50_50 = mix(0.5, 0.5)\n",
    "qubit_10_90 = mix(0.1, 0.9)\n",
    "print(qubit_50_50)\n",
    "print(qubit_10_90)"
   ]
  },
  {
   "cell_type": "code",
   "execution_count": null,
   "id": "e0c5f108-3dfe-45e2-8235-53c29f84a3bc",
   "metadata": {},
   "outputs": [],
   "source": [
    "![Screenshot 2023-09-22 at 15.43.05.png](attachment:ac653977-b2af-4903-82c2-60e1bd1f19d5.png) style=\"zoom:33%;\" "
   ]
  },
  {
   "cell_type": "code",
   "execution_count": 8,
   "id": "3631c08f-2a6b-4851-9198-1d441dde949f",
   "metadata": {
    "tags": []
   },
   "outputs": [
    {
     "name": "stdout",
     "output_type": "stream",
     "text": [
      "[[0.70710678]\n",
      " [0.70710678]]\n",
      "[[ 0.70710678]\n",
      " [-0.70710678]]\n"
     ]
    }
   ],
   "source": [
    "# 正负基态 x轴\n",
    "plus_qubit = 1 / np.sqrt(2) * np.matrix('1; 1')\n",
    "minus_qubit =1 / np.sqrt(2) * np.matrix('1; -1')\n",
    "print(plus_qubit)\n",
    "print(minus_qubit)"
   ]
  },
  {
   "cell_type": "code",
   "execution_count": null,
   "id": "89e1c16f-5334-4fcb-9a13-cb932bbb9de2",
   "metadata": {},
   "outputs": [],
   "source": []
  }
 ],
 "metadata": {
  "kernelspec": {
   "display_name": "Python 3 (ipykernel)",
   "language": "python",
   "name": "python3"
  },
  "language_info": {
   "codemirror_mode": {
    "name": "ipython",
    "version": 3
   },
   "file_extension": ".py",
   "mimetype": "text/x-python",
   "name": "python",
   "nbconvert_exporter": "python",
   "pygments_lexer": "ipython3",
   "version": "3.11.4"
  }
 },
 "nbformat": 4,
 "nbformat_minor": 5
}
