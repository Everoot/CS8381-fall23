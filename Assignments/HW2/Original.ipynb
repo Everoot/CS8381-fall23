{
 "cells": [
  {
   "cell_type": "markdown",
   "metadata": {},
   "source": [
    "# Environment Check\n",
    "\n",
    "Check that environment containing quantum libaries is being used.\n",
    "qc jupyter kernel is running using libraries in the conda environent"
   ]
  },
  {
   "cell_type": "code",
   "execution_count": 1,
   "metadata": {},
   "outputs": [
    {
     "name": "stdout",
     "output_type": "stream",
     "text": [
      "# conda environments:\n",
      "#\n",
      "base                     /Users/eve/anaconda3\n",
      "Code                     /Users/eve/anaconda3/envs/Code\n",
      "python39              *  /Users/eve/anaconda3/envs/python39\n",
      "\n"
     ]
    }
   ],
   "source": [
    "! conda env list"
   ]
  },
  {
   "cell_type": "code",
   "execution_count": 2,
   "metadata": {},
   "outputs": [
    {
     "name": "stdout",
     "output_type": "stream",
     "text": [
      "/Library/Developer/CommandLineTools/usr/bin/python3\n"
     ]
    }
   ],
   "source": [
    "import sys\n",
    "print(sys.executable)"
   ]
  },
  {
   "cell_type": "code",
   "execution_count": 3,
   "metadata": {},
   "outputs": [
    {
     "name": "stdout",
     "output_type": "stream",
     "text": [
      "Available kernels:\n",
      "  python3    /Users/eve/Library/Python/3.9/share/jupyter/kernels/python3\n"
     ]
    }
   ],
   "source": [
    "! jupyter kernelspec list"
   ]
  },
  {
   "cell_type": "markdown",
   "metadata": {},
   "source": [
    "# Homework 2: Basic Quantum Programs\n",
    "\n",
    "First, we will begin by importing Qiskit, IBM's quantum computing software that is written in Python! To create an experiment and run it, we will need to use Qiskit's Circuits, Registers, and Compilers. Programming using qiskit allows us to programmatically extend QASM code to use for loops and if statements to design circuits faster.  QASM is an assembler-like instruction set that allows you to specify quantum circuits."
   ]
  },
  {
   "cell_type": "markdown",
   "metadata": {},
   "source": [
    "#### Import libraries and simulator\n",
    "Aes is a backend simulator for the IBM quantum computers (other backends are run on real QC). Numpy is good with arrays and matrices. pyplot is for visualization of probability distributions."
   ]
  },
  {
   "cell_type": "code",
   "execution_count": 4,
   "metadata": {},
   "outputs": [
    {
     "name": "stdout",
     "output_type": "stream",
     "text": [
      "qiskit vers.= 0.25.1\n"
     ]
    }
   ],
   "source": [
    "import qiskit\n",
    "from qiskit import QuantumCircuit, ClassicalRegister, QuantumRegister, execute, Aer, assemble\n",
    "import matplotlib.pyplot as plt\n",
    "import numpy as np\n",
    "\n",
    "\n",
    "print('qiskit vers.= %s'%qiskit.__version__)"
   ]
  },
  {
   "cell_type": "markdown",
   "metadata": {},
   "source": [
    "Setting __AER backends(simulators)__:\\\n",
    "the `qasm_simulator` simulates a true backend and gets the probabilistic results using shots;\\\n",
    "the `statevector_simulator` returns an actual ideal vector of probabilities\\\n",
    "\n"
   ]
  },
  {
   "cell_type": "code",
   "execution_count": 5,
   "metadata": {},
   "outputs": [],
   "source": [
    "#settings and backends\n",
    "shots = 1024\n",
    "simulator = Aer.get_backend('qasm_simulator')\n",
    "state_vector_sim = Aer.get_backend('statevector_simulator')"
   ]
  },
  {
   "cell_type": "markdown",
   "metadata": {},
   "source": [
    "## 1. Demo: Superposition\n",
    "\n",
    "First, we will demonstrate __quantum superposition__. This will be accomplished using a one-qubit quantum circuit that has a single gate: the __Hadamard operation__, $\\mathbf{H}$. The qubit is initialized to the computational __basis vector__ $|0\\rangle$ and is then applied to the Hadamard gate.  Whenever the resulting __state vector__ for the evolved wavefunction is examined, it is observed that the __probability amplitudes__ for both $|0\\rangle$ and $|1\\rangle$ are equal to $\\frac{1}{\\sqrt{2}}$, indicating __maximal superposition__ of the qubit. "
   ]
  },
  {
   "cell_type": "markdown",
   "metadata": {},
   "source": [
    "`QuantumCircuit` stores data registers \\\n",
    "`QuantumRegister` are where the qubit values are initialized and stored.\\\n",
    "`ClassicalRegister` are used to store the results of quantum registers when measured.\\\n",
    "`qc.measure(qr,cr)` is used to measure and put quantum result in register\\\n",
    "Commands `qc.h` are the Hadamard gate."
   ]
  },
  {
   "cell_type": "code",
   "execution_count": 6,
   "metadata": {},
   "outputs": [
    {
     "name": "stdout",
     "output_type": "stream",
     "text": [
      "\n",
      "STATEVECTOR:  Statevector([0.70710678+0.j, 0.70710678+0.j],\n",
      "            dims=(2,))\n",
      "\n",
      "QUANTUM CIRCUIT DIAGRAM:\n"
     ]
    },
    {
     "data": {
      "image/png": "[encoded data removed]",
      "text/plain": [
       "<Figure size 331.765x200.667 with 1 Axes>"
      ]
     },
     "execution_count": 6,
     "metadata": {},
     "output_type": "execute_result"
    }
   ],
   "source": [
    "qr = QuantumRegister(1, 'q_reg')\n",
    "cr = ClassicalRegister(1, 'c_reg')\n",
    "qc = QuantumCircuit(qr, cr)\n",
    "\n",
    "qc.h(qr[0])\n",
    "\n",
    "#Must find state vector for wavefunction before you add measurement operators!\n",
    "#(Measurement operators cause wavefunction collapse)\n",
    "state_vector = execute(qc,state_vector_sim).result()\n",
    "vector = state_vector.get_statevector(qc)\n",
    "print('\\nSTATEVECTOR: ', vector)\n",
    "\n",
    "qc.measure(qr, cr)\n",
    "\n",
    "print('\\nQUANTUM CIRCUIT DIAGRAM:')\n",
    "qc.draw(output=\"mpl\")"
   ]
  },
  {
   "cell_type": "markdown",
   "metadata": {},
   "source": [
    "We can see the opensource QASM assembly code specification of the circuit."
   ]
  },
  {
   "cell_type": "code",
   "execution_count": 7,
   "metadata": {},
   "outputs": [
    {
     "name": "stdout",
     "output_type": "stream",
     "text": [
      "\n",
      "QASM SPECIFICATION:\n",
      "OPENQASM 2.0;\n",
      "include \"qelib1.inc\";\n",
      "qreg q_reg[1];\n",
      "creg c_reg[1];\n",
      "h q_reg[0];\n",
      "measure q_reg[0] -> c_reg[0];\n"
     ]
    }
   ],
   "source": [
    "print('\\nQASM SPECIFICATION:')\n",
    "for i in qc.qasm():\n",
    "    print(i,end='')"
   ]
  },
  {
   "cell_type": "markdown",
   "metadata": {},
   "source": [
    "A __measurement operation__ placed after the Hadamard gate causes it to collapse into one of the computational basis states. We are measuring in the __Pauli-Z__ measurement basis. We will simulate this circuit 1,024 times (this is called the number of __\"shots\"__ in the IBMQ environment). The measurement operator \"observes\" the quantum information and places the measurement output into the classical register. Once the circuit is complete with registers, a state transformation, and a measurement operation, experiments will be run using the Qiskit Aer simulator. Note how after each run, the output distribution varies slightly, but is close to a 50/50 split between the basis states $|0\\rangle$ and $|1\\rangle$ whenever the input quantum state is in a basis state."
   ]
  },
  {
   "cell_type": "code",
   "execution_count": 8,
   "metadata": {},
   "outputs": [
    {
     "name": "stdout",
     "output_type": "stream",
     "text": [
      "\n",
      "SIMULATION RESULTS:\n",
      "Simulation distribution 0: {'1': 507, '0': 517}\n"
     ]
    },
    {
     "data": {
      "image/png": "[encoded data removed]",
      "text/plain": [
       "<Figure size 640x480 with 1 Axes>"
      ]
     },
     "metadata": {},
     "output_type": "display_data"
    },
    {
     "name": "stdout",
     "output_type": "stream",
     "text": [
      "Simulation distribution 1: {'0': 493, '1': 531}\n"
     ]
    },
    {
     "data": {
      "image/png": "[encoded data removed]",
      "text/plain": [
       "<Figure size 640x480 with 1 Axes>"
      ]
     },
     "metadata": {},
     "output_type": "display_data"
    },
    {
     "name": "stdout",
     "output_type": "stream",
     "text": [
      "Simulation distribution 2: {'1': 464, '0': 560}\n"
     ]
    },
    {
     "data": {
      "image/png": "[encoded data removed]",
      "text/plain": [
       "<Figure size 640x480 with 1 Axes>"
      ]
     },
     "metadata": {},
     "output_type": "display_data"
    }
   ],
   "source": [
    "print('\\nSIMULATION RESULTS:')\n",
    "for i in range(0,3):\n",
    "    job = execute(qc,simulator,shots=shots)\n",
    "    result = job.result()\n",
    "    counts = result.get_counts(qc)\n",
    "    print('Simulation distribution %d:'%i, counts)\n",
    "    plt.bar(counts.keys(),counts.values())\n",
    "    plt.show()"
   ]
  },
  {
   "cell_type": "markdown",
   "metadata": {},
   "source": [
    "## 2. Rotations X and Z\n",
    "\n",
    "We will experiment with Pauli-__X__ and Pauli-__Z__; known as the bit flip and phase flip operators. Pauli __Y__ gate can be considered as a bit and phase flip gate "
   ]
  },
  {
   "cell_type": "code",
   "execution_count": 9,
   "metadata": {},
   "outputs": [
    {
     "name": "stdout",
     "output_type": "stream",
     "text": [
      "\n",
      "STATEVECTOR:  Statevector([0.+0.j, 1.+0.j],\n",
      "            dims=(2,))\n",
      "\n",
      "QUANTUM CIRCUIT DIAGRAM:\n"
     ]
    },
    {
     "data": {
      "image/png": "[encoded data removed]",
      "text/plain": [
       "<Figure size 331.765x200.667 with 1 Axes>"
      ]
     },
     "execution_count": 9,
     "metadata": {},
     "output_type": "execute_result"
    }
   ],
   "source": [
    "qr = QuantumRegister(1, 'q_reg')\n",
    "cr = ClassicalRegister(1, 'c_reg')\n",
    "qc = QuantumCircuit(qr, cr)\n",
    "\n",
    "qc.x(qr[0])\n",
    "\n",
    "#Must find state vector for wavefunction before you add measurement operators!\n",
    "#(Measurement operators cause wavefunction collapse)\n",
    "state_vector = execute(qc,state_vector_sim).result()\n",
    "vector = state_vector.get_statevector(qc)\n",
    "print('\\nSTATEVECTOR: ', vector)\n",
    "\n",
    "qc.measure(qr, cr)\n",
    "\n",
    "print('\\nQUANTUM CIRCUIT DIAGRAM:')\n",
    "qc.draw(output=\"mpl\")"
   ]
  },
  {
   "cell_type": "markdown",
   "metadata": {},
   "source": [
    "We can see the value is flipped to ket 1"
   ]
  },
  {
   "cell_type": "code",
   "execution_count": 10,
   "metadata": {},
   "outputs": [
    {
     "name": "stdout",
     "output_type": "stream",
     "text": [
      "\n",
      "SIMULATION RESULTS:\n",
      "Simulation distribution 0: {'1': 1024}\n"
     ]
    },
    {
     "data": {
      "image/png": "[encoded data removed]",
      "text/plain": [
       "<Figure size 640x480 with 1 Axes>"
      ]
     },
     "metadata": {},
     "output_type": "display_data"
    }
   ],
   "source": [
    "print('\\nSIMULATION RESULTS:')\n",
    "for i in range(0,1):\n",
    "    job = execute(qc,simulator,shots=shots)\n",
    "    result = job.result()\n",
    "    counts = result.get_counts(qc)\n",
    "    print('Simulation distribution %d:'%i, counts)\n",
    "    plt.bar(counts.keys(),counts.values())\n",
    "    plt.show()"
   ]
  },
  {
   "cell_type": "markdown",
   "metadata": {},
   "source": [
    "### 2.1 Phase flip"
   ]
  },
  {
   "cell_type": "code",
   "execution_count": 11,
   "metadata": {},
   "outputs": [
    {
     "data": {
      "text/plain": [
       "<qiskit.circuit.instructionset.InstructionSet at 0x136a1ca00>"
      ]
     },
     "execution_count": 11,
     "metadata": {},
     "output_type": "execute_result"
    }
   ],
   "source": [
    "qr = QuantumRegister(1, 'q_reg')\n",
    "cr = ClassicalRegister(1, 'c_reg')\n",
    "qc = QuantumCircuit(qr, cr)\n",
    "\n",
    "qc.z(qr[0])\n",
    "\n"
   ]
  },
  {
   "cell_type": "code",
   "execution_count": 12,
   "metadata": {},
   "outputs": [
    {
     "name": "stdout",
     "output_type": "stream",
     "text": [
      "\n",
      "STATEVECTOR:  Statevector([ 1.+0.j, -0.+0.j],\n",
      "            dims=(2,))\n",
      "\n",
      "QUANTUM CIRCUIT DIAGRAM:\n",
      "\n",
      "SIMULATION RESULTS:\n",
      "Simulation distribution 0: {'0': 1024}\n"
     ]
    },
    {
     "data": {
      "image/png": "[encoded data removed]",
      "text/plain": [
       "<Figure size 640x480 with 1 Axes>"
      ]
     },
     "metadata": {},
     "output_type": "display_data"
    }
   ],
   "source": [
    "#Must find state vector for wavefunction before you add measurement operators!\n",
    "#(Measurement operators cause wavefunction collapse)\n",
    "state_vector = execute(qc,state_vector_sim).result()\n",
    "vector = state_vector.get_statevector(qc)\n",
    "print('\\nSTATEVECTOR: ', vector)\n",
    "\n",
    "qc.measure(qr, cr)\n",
    "\n",
    "print('\\nQUANTUM CIRCUIT DIAGRAM:')\n",
    "qc.draw(output=\"mpl\")\n",
    "print('\\nSIMULATION RESULTS:')\n",
    "for i in range(0,1):\n",
    "    job = execute(qc,simulator,shots=shots)\n",
    "    result = job.result()\n",
    "    counts = result.get_counts(qc)\n",
    "    print('Simulation distribution %d:'%i, counts)\n",
    "    plt.bar(counts.keys(),counts.values())\n",
    "    plt.show()"
   ]
  },
  {
   "cell_type": "markdown",
   "metadata": {},
   "source": [
    "### 2.2 Question 1: Why is the phase flip not changing the probability? Implement a Pauli-X using Hadamard and Pauli-Z gates only and test measurement."
   ]
  },
  {
   "cell_type": "markdown",
   "metadata": {},
   "source": [
    "Insert the answer to Question 1 HERE"
   ]
  },
  {
   "cell_type": "markdown",
   "metadata": {},
   "source": [
    "### 2.3 Parameterized rotations\n",
    "Qiskit has parameterized rotations `rx, ry, rz`.\n",
    "The most generalized qubit is the `U3` operator in Qiskit"
   ]
  },
  {
   "cell_type": "code",
   "execution_count": 13,
   "metadata": {},
   "outputs": [],
   "source": [
    "from math import pi, sqrt"
   ]
  },
  {
   "cell_type": "code",
   "execution_count": 14,
   "metadata": {},
   "outputs": [
    {
     "data": {
      "image/png": "[encoded data removed]",
      "text/plain": [
       "<Figure size 519.897x117.056 with 1 Axes>"
      ]
     },
     "execution_count": 14,
     "metadata": {},
     "output_type": "execute_result"
    }
   ],
   "source": [
    "qc = QuantumCircuit(1)\n",
    "qc.u(pi/2, pi/2, pi/2, 0)\n",
    "qc.rx(pi/2,0)\n",
    "qc.ry(pi/2,0)\n",
    "qc.rz(pi/2,0)\n",
    "qc.draw(output=\"mpl\")"
   ]
  },
  {
   "cell_type": "markdown",
   "metadata": {},
   "source": [
    "### 2.4 Question 2: Create a Hadamard gate using only the rx,ry,rz functions."
   ]
  },
  {
   "cell_type": "markdown",
   "metadata": {},
   "source": [
    "Insert the answer to Question 2 HERE"
   ]
  },
  {
   "cell_type": "markdown",
   "metadata": {},
   "source": [
    "## 3. Multiqubit Systems and Specified Rotations Visualized\n",
    "We now experiment with multiqubit systems."
   ]
  },
  {
   "cell_type": "code",
   "execution_count": 15,
   "metadata": {},
   "outputs": [
    {
     "name": "stdout",
     "output_type": "stream",
     "text": [
      "\n",
      "STATEVECTOR:  Statevector([-6.49467042e-17-0.35355339j, -6.49467042e-17-0.35355339j,\n",
      "              2.16489014e-17+0.35355339j,  2.16489014e-17+0.35355339j,\n",
      "              2.16489014e-17+0.35355339j,  2.16489014e-17+0.35355339j,\n",
      "              2.16489014e-17-0.35355339j,  2.16489014e-17-0.35355339j],\n",
      "            dims=(2, 2, 2))\n",
      "\n",
      "QUANTUM CIRCUIT DIAGRAM:\n"
     ]
    },
    {
     "data": {
      "image/png": "[encoded data removed]",
      "text/plain": [
       "<Figure size 601.031x367.889 with 1 Axes>"
      ]
     },
     "execution_count": 15,
     "metadata": {},
     "output_type": "execute_result"
    }
   ],
   "source": [
    "qr2 = QuantumRegister(3, 'q_reg')\n",
    "cr2 = ClassicalRegister(3, 'c_reg')\n",
    "qc2 = QuantumCircuit(qr2, cr2)\n",
    "qc2.h(qr2[0])\n",
    "qc2.x(qr2[0])\n",
    "\n",
    "qc2.h(qr2[1])\n",
    "qc2.y(qr2[1])\n",
    "\n",
    "qc2.h(qr2[2])\n",
    "qc2.z(qr2[2])\n",
    "\n",
    "state_vector2 = execute(qc2,state_vector_sim).result()\n",
    "vector2 = state_vector2.get_statevector(qc2)\n",
    "print('\\nSTATEVECTOR: ', vector2)\n",
    "\n",
    "qc2.measure(qr2, cr2)\n",
    "\n",
    "print('\\nQUANTUM CIRCUIT DIAGRAM:')\n",
    "qc2.draw(output=\"mpl\")"
   ]
  },
  {
   "cell_type": "markdown",
   "metadata": {},
   "source": [
    "### 3.1 Question 3: Notice the statevector size is increased. What calculation results in the increased size? What is the growth rate relationship between statevector size and number of qubits, and what is one implication of this?"
   ]
  },
  {
   "cell_type": "markdown",
   "metadata": {},
   "source": [
    "Insert the Answer to Question 3 HERE"
   ]
  },
  {
   "cell_type": "markdown",
   "metadata": {},
   "source": [
    "## 4. Run Hadamard on a Real Quantum Computer\n",
    "\n",
    "To use this notebook, you must copy your API token from the \"My Account\" page on the IBMQ Experience.\n",
    "\n",
    "Create an IBMQ account and run a Hadamard gate. https://github.com/Qiskit/qiskit-ibmq-provider\n",
    "\n",
    "More information about the tokens is available in the instructions document for this homework.  Also, be aware that the\n",
    "commented out \"IBMQ.save_account(token)\" should be uncommented the first time you run this code since your token will be\n",
    "saved to your local disk drive.  You can comment out this line afterward, since your token will have already been saved.\n",
    "\n",
    "Also note that, running this code more than once in the same session will cause a warning to be issued when the \n",
    "\"provider=IBMQ.load_account()\" is re-executed since your account will have already been loaded the first time.\n",
    "You can ignore this warning.\n"
   ]
  },
  {
   "cell_type": "code",
   "execution_count": 17,
   "metadata": {},
   "outputs": [
    {
     "name": "stderr",
     "output_type": "stream",
     "text": [
      "configrc.store_credentials:WARNING:2023-09-26 23:15:31,140: Credentials already present. Set overwrite=True to overwrite.\n",
      "ibmqfactory.load_account:WARNING:2023-09-26 23:15:31,494: Credentials are already in use. The existing account in the session will be replaced.\n"
     ]
    }
   ],
   "source": [
    "from qiskit import IBMQ\n",
    "from qiskit.tools.monitor import job_monitor\n",
    "from qiskit.providers.ibmq import least_busy\n",
    "\n",
    "#paste your token from the IBM Q here\n",
    "token = \"af20cdee3bd074af935caeefbd7a21adb4914ed92587f43f761e1f073f7c8a65a40a20b7def7a7e82db31f31c8e0d83ccaed9f63c5fa5b6c6001b18bff5743bb\"\n",
    "\n",
    "# The following statement 'save.account' only needs to be run once, since your token will be saved to disk\n",
    "IBMQ.save_account(token)\n",
    "try:\n",
    "    provider = IBMQ.load_account()\n",
    "    backend = provider.get_backend('ibmq_qasm_simulator')\n",
    "    \n",
    "except:\n",
    "    print(\n",
    "        \"\"\"WARNING: No valid IBMQ credentials found on disk.\n",
    "             You must store your credentials using IBMQ.save_account(token, url).\n",
    "             For now, there's only access to local simulator backends...\"\"\"\n",
    "    )\n",
    "    exit(0)\n",
    "    pass\n"
   ]
  },
  {
   "cell_type": "markdown",
   "metadata": {},
   "source": [
    "This shows the types of ibm backend cloud devices. Note that each backend has a specific qubit architecture."
   ]
  },
  {
   "cell_type": "code",
   "execution_count": 18,
   "metadata": {},
   "outputs": [
    {
     "name": "stdout",
     "output_type": "stream",
     "text": [
      "Remote backends:  [<IBMQSimulator('ibmq_qasm_simulator') from IBMQ(hub='ibm-q', group='open', project='main')>, <IBMQSimulator('simulator_statevector') from IBMQ(hub='ibm-q', group='open', project='main')>, <IBMQSimulator('simulator_mps') from IBMQ(hub='ibm-q', group='open', project='main')>, <IBMQSimulator('simulator_extended_stabilizer') from IBMQ(hub='ibm-q', group='open', project='main')>, <IBMQSimulator('simulator_stabilizer') from IBMQ(hub='ibm-q', group='open', project='main')>, <IBMQBackend('ibm_lagos') from IBMQ(hub='ibm-q', group='open', project='main')>, <IBMQBackend('ibm_nairobi') from IBMQ(hub='ibm-q', group='open', project='main')>, <IBMQBackend('ibm_perth') from IBMQ(hub='ibm-q', group='open', project='main')>, <IBMQBackend('ibm_brisbane') from IBMQ(hub='ibm-q', group='open', project='main')>]\n"
     ]
    }
   ],
   "source": [
    "#see a list of available remote backends\n",
    "ibmq_backends = provider.backends()\n",
    "print(\"Remote backends: \", ibmq_backends)"
   ]
  },
  {
   "cell_type": "markdown",
   "metadata": {},
   "source": [
    "We will select the least busy backend with at least 2 qubits"
   ]
  },
  {
   "cell_type": "code",
   "execution_count": 19,
   "metadata": {},
   "outputs": [],
   "source": [
    "# allocate the least busy device with at least 2 qubits\n",
    "try:\n",
    "    least_busy_device = least_busy(\n",
    "        provider.backends(filters=lambda x: x.configuration().n_qubits >= 2, simulator=False)\n",
    "    )\n",
    "except:\n",
    "    print(\"All devices are currently unavailable.\")"
   ]
  },
  {
   "cell_type": "code",
   "execution_count": 20,
   "metadata": {},
   "outputs": [
    {
     "name": "stdout",
     "output_type": "stream",
     "text": [
      "Running on current least busy device:  ibm_nairobi\n"
     ]
    }
   ],
   "source": [
    "# Output selected device based on least queue/load\n",
    "print(\"Running on current least busy device: \", least_busy_device)"
   ]
  },
  {
   "cell_type": "markdown",
   "metadata": {},
   "source": [
    "### Question 4: Describe the specific IBM backend you will use above and the transmon qubit properties."
   ]
  },
  {
   "cell_type": "markdown",
   "metadata": {},
   "source": [
    "Insert the answer to Question 4 HERE"
   ]
  },
  {
   "cell_type": "code",
   "execution_count": 21,
   "metadata": {},
   "outputs": [
    {
     "name": "stdout",
     "output_type": "stream",
     "text": [
      "\n",
      "STATEVECTOR:  Statevector([0.70710678+0.j, 0.70710678+0.j],\n",
      "            dims=(2,))\n",
      "\n",
      "QUANTUM CIRCUIT DIAGRAM:\n"
     ]
    },
    {
     "data": {
      "image/png": "[encoded data removed]",
      "text/plain": [
       "<Figure size 331.765x200.667 with 1 Axes>"
      ]
     },
     "execution_count": 21,
     "metadata": {},
     "output_type": "execute_result"
    }
   ],
   "source": [
    "# Qiskit package imports\n",
    "from qiskit import QuantumCircuit\n",
    "from qiskit import execute, IBMQ, BasicAer\n",
    "\n",
    "\n",
    "\n",
    "qr = QuantumRegister(1, 'q_reg')\n",
    "cr = ClassicalRegister(1, 'c_reg')\n",
    "qc = QuantumCircuit(qr, cr)\n",
    "\n",
    "qc.h(qr[0])\n",
    "\n",
    "#Must find state vector for wavefunction before you add measurement operators!\n",
    "#(Measurement operators cause wavefunction collapse)\n",
    "state_vector = execute(qc,state_vector_sim).result()\n",
    "vector = state_vector.get_statevector(qc)\n",
    "print('\\nSTATEVECTOR: ', vector)\n",
    "\n",
    "qc.measure(qr, cr)\n",
    "\n",
    "print('\\nQUANTUM CIRCUIT DIAGRAM:')\n",
    "qc.draw(output=\"mpl\")"
   ]
  },
  {
   "cell_type": "code",
   "execution_count": null,
   "metadata": {},
   "outputs": [],
   "source": [
    "# output the specified quantum circuit\n",
    "print('\\nQUANTUM CIRCUIT DIAGRAM:')\n",
    "print(qc.draw())\n",
    "print('\\nQASM CIRCUIT SPECIFICATION:')\n",
    "for i in qc.qasm():\n",
    "    print(i,end='')\n",
    "       \n",
    "# execute the quantum circuit and output the results of the execution\n",
    "print('\\nACTUAL EXECUTION RESULTS:')\n",
    "for i in range(0,3):\n",
    "    job_exp = execute(qc, least_busy_device, shots=1024)\n",
    "    result_exp = job_exp.result()\n",
    "    counts = result_exp.get_counts(qc)\n",
    "    print('Actual execution distribution %d:'%i, counts)\n",
    "    plt.bar(counts.keys(),counts.values())\n",
    "    plt.title(\"Qubit Measurement Histogram: \"+i)\n",
    "    plt.show()\n"
   ]
  },
  {
   "cell_type": "markdown",
   "metadata": {},
   "source": [
    "### Question 5: Describe any systematic/random errors in the histogram distributions between the ideal simulator and the quantum computer. What can be causing these differences (or the lack thereof)?"
   ]
  },
  {
   "cell_type": "markdown",
   "metadata": {},
   "source": [
    "Insert the answer to Question 5 HERE"
   ]
  },
  {
   "cell_type": "markdown",
   "metadata": {},
   "source": [
    "## 5. Export this Jupyter notebook to html and submit it by emailing to erhenderson@smu.edu, hendersonj@smu.edu, and mitch@smu.edu."
   ]
  },
  {
   "cell_type": "code",
   "execution_count": null,
   "metadata": {},
   "outputs": [],
   "source": []
  },
  {
   "cell_type": "code",
   "execution_count": null,
   "metadata": {},
   "outputs": [],
   "source": []
  },
  {
   "cell_type": "code",
   "execution_count": null,
   "metadata": {},
   "outputs": [],
   "source": []
  },
  {
   "cell_type": "code",
   "execution_count": null,
   "metadata": {},
   "outputs": [],
   "source": []
  }
 ],
 "metadata": {
  "kernelspec": {
   "display_name": "Python 3 (ipykernel)",
   "language": "python",
   "name": "python3"
  },
  "language_info": {
   "codemirror_mode": {
    "name": "ipython",
    "version": 3
   },
   "file_extension": ".py",
   "mimetype": "text/x-python",
   "name": "python",
   "nbconvert_exporter": "python",
   "pygments_lexer": "ipython3",
   "version": "3.11.4"
  }
 },
 "nbformat": 4,
 "nbformat_minor": 4
}
